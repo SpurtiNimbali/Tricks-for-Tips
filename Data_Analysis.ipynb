{
  "nbformat": 4,
  "nbformat_minor": 0,
  "metadata": {
    "colab": {
      "provenance": []
    },
    "kernelspec": {
      "name": "python3",
      "display_name": "Python 3"
    },
    "language_info": {
      "name": "python"
    }
  },
  "cells": [
    {
      "cell_type": "markdown",
      "source": [
        "## **Data Science 112 Final Project: Data Extraction** **bold text**\n",
        "\n",
        "\n",
        "# Tricks for Tips : A Data-Driven Analysis of Tipping Influences\n",
        "***by Amelie and Spurti***\n",
        "\n",
        "This project explores variables that impact the tipping percentages.\n",
        "\n",
        "This section covers the development and evaluation of our machine learning model to predict tipping behavior."
      ],
      "metadata": {
        "id": "Z8wmiWkfWhUX"
      }
    },
    {
      "cell_type": "code",
      "execution_count": null,
      "metadata": {
        "colab": {
          "base_uri": "https://localhost:8080/"
        },
        "id": "UZJ2D8AexVTh",
        "outputId": "29cabf1d-8f6f-4b6f-e23a-ba92e5d1b488"
      },
      "outputs": [
        {
          "output_type": "stream",
          "name": "stdout",
          "text": [
            "Drive already mounted at /content/drive; to attempt to forcibly remount, call drive.mount(\"/content/drive\", force_remount=True).\n",
            "Test RMSE: 0.034554561587719475\n",
            "5 fold RMSE: 0.03884298827382569\n"
          ]
        }
      ],
      "source": [
        "import pandas as pd\n",
        "import numpy as np\n",
        "from sklearn.model_selection import train_test_split, cross_val_score\n",
        "from sklearn.pipeline import make_pipeline\n",
        "from sklearn.preprocessing import OneHotEncoder, StandardScaler\n",
        "from sklearn.ensemble import RandomForestRegressor\n",
        "from sklearn.metrics import mean_squared_error\n",
        "\n",
        "from google.colab import drive\n",
        "drive.mount('/content/drive')\n",
        "\n",
        "df = pd.read_csv(\"/content/drive/My Drive/data.csv\")\n",
        "df['pickup_datetime'] = pd.to_datetime(\n",
        "    df['pickup_date'].astype(str) + ' ' + df['pickup_time'].astype(str),\n",
        "    errors='coerce'\n",
        ")\n",
        "df['dropoff_datetime'] = pd.to_datetime(\n",
        "    df['pickup_date'].astype(str) + ' ' + df['dropoff_time'].astype(str),\n",
        "    errors='coerce'\n",
        ")\n",
        "\n",
        "df['tip_pct']      = df['tip_amount'] / df['total_amount']\n",
        "df['pickup_hour']  = df['pickup_datetime'].dt.hour\n",
        "\n",
        "feature_cols = [\n",
        "    'pickup_income',\n",
        "    'dropoff_income',\n",
        "    'temperature_2m',\n",
        "    'pickup_hour',\n",
        "    'trip_duration',\n",
        "    'trip_distance',\n",
        "    'total_amount',\n",
        "    'congestion_surcharge'\n",
        "]\n",
        "X = df[feature_cols]\n",
        "y = df['tip_pct'].fillna(0)\n",
        "\n",
        "pipeline = make_pipeline(\n",
        "    StandardScaler(),\n",
        "    RandomForestRegressor(n_estimators=100, random_state=42)\n",
        ")\n",
        "\n",
        "X_train, X_test, y_train, y_test = train_test_split(\n",
        "    X, y, test_size=0.2, random_state=42\n",
        ")\n",
        "\n",
        "pipeline.fit(X_train, y_train)\n",
        "y_pred = pipeline.predict(X_test)\n",
        "\n",
        "test_rmse = np.sqrt(mean_squared_error(y_test, y_pred))\n",
        "print(\"Test RMSE:\",  test_rmse)\n",
        "\n",
        "cv_mse  = -cross_val_score(\n",
        "    pipeline, X, y,\n",
        "    cv=5,\n",
        "    scoring='neg_mean_squared_error'\n",
        ")\n",
        "cv_rmse = np.sqrt(cv_mse).mean()\n",
        "print(\"5 fold RMSE:\",  cv_rmse)"
      ]
    },
    {
      "cell_type": "code",
      "source": [
        "from sklearn.neighbors import KNeighborsRegressor\n",
        "pipeline = make_pipeline(\n",
        "    StandardScaler(),\n",
        "    KNeighborsRegressor(n_neighbors=5)\n",
        ")\n",
        "\n",
        "X_train, X_test, y_train, y_test = train_test_split(\n",
        "    X, y, test_size=0.2, random_state=42\n",
        ")\n",
        "\n",
        "pipeline.fit(X_train, y_train)\n",
        "y_pred = pipeline.predict(X_test)\n",
        "\n",
        "test_rmse = np.sqrt(mean_squared_error(y_test, y_pred))\n",
        "print(\"Test RMSE:\",  test_rmse)\n",
        "\n",
        "cv_mse  = -cross_val_score(\n",
        "    pipeline, X, y,\n",
        "    cv=5,\n",
        "    scoring='neg_mean_squared_error'\n",
        ")\n",
        "cv_rmse = np.sqrt(cv_mse).mean()\n",
        "print(\"5-fold CV RMSE:\",  cv_rmse)\n"
      ],
      "metadata": {
        "colab": {
          "base_uri": "https://localhost:8080/"
        },
        "id": "yONGuKNArWyF",
        "outputId": "1f279ab4-0656-4b1f-c798-dd800c3e65db"
      },
      "execution_count": null,
      "outputs": [
        {
          "output_type": "stream",
          "name": "stdout",
          "text": [
            "Test RMSE: 0.07858550817432462\n",
            "5-fold CV RMSE: 0.07834349413600236\n"
          ]
        }
      ]
    },
    {
      "cell_type": "code",
      "source": [
        "from sklearn.model_selection import GridSearchCV\n",
        "\n",
        "pipeline = make_pipeline(\n",
        "    StandardScaler(),\n",
        "    RandomForestRegressor(random_state=42)\n",
        ")\n",
        "param_grid = {\n",
        "    'randomforestregressor__n_estimators': [100, 200, 300],\n",
        "    'randomforestregressor__max_depth': [None, 10, 20],\n",
        "    'randomforestregressor__min_samples_split': [2, 5, 10]\n",
        "}\n",
        "\n",
        "grid_search = GridSearchCV(\n",
        "    pipeline,\n",
        "    param_grid,\n",
        "    cv=5,\n",
        "    scoring='neg_mean_squared_error',\n",
        "    n_jobs=-1,\n",
        "    verbose=2\n",
        ")\n",
        "grid_search.fit(X_train, y_train)\n",
        "\n",
        "best_model = grid_search.best_estimator_\n",
        "y_pred = best_model.predict(X_test)\n",
        "test_rmse = np.sqrt(mean_squared_error(y_test, y_pred))\n",
        "cv_rmse = np.sqrt(-grid_search.best_score_)\n",
        "\n",
        "print(\"Best Parameters:\", grid_search.best_params_)\n",
        "print(\"Test RMSE:\", test_rmse)\n",
        "print(\"CV RMSE:\", cv_rmse)\n"
      ],
      "metadata": {
        "colab": {
          "base_uri": "https://localhost:8080/"
        },
        "id": "cpb0XHOdtZfI",
        "outputId": "3a6b8a31-7ca6-425e-e0ff-5a251122de9f"
      },
      "execution_count": null,
      "outputs": [
        {
          "output_type": "stream",
          "name": "stdout",
          "text": [
            "Fitting 5 folds for each of 27 candidates, totalling 135 fits\n",
            "Best Parameters: {'randomforestregressor__max_depth': 20, 'randomforestregressor__min_samples_split': 2, 'randomforestregressor__n_estimators': 300}\n",
            "Test RMSE: 0.04306692369141193\n",
            "CV RMSE: 0.04263021528459892\n"
          ]
        }
      ]
    },
    {
      "cell_type": "code",
      "source": [
        "# @markdown Run this cell to download this notebook as a webpage, `_NOTEBOOK.html`.\n",
        "\n",
        "import google, json, nbformat\n",
        "x\n",
        "# Get the current notebook and write it to _NOTEBOOK.ipynb\n",
        "raw_notebook = google.colab._message.blocking_request(\"get_ipynb\",\n",
        "                                                      timeout_sec=30)[\"ipynb\"]\n",
        "with open(\"_NOTEBOOK.ipynb\", \"w\", encoding=\"utf-8\") as ipynb_file:\n",
        "  ipynb_file.write(json.dumps(raw_notebook))\n",
        "\n",
        "# Use nbconvert to convert .ipynb to .html.\n",
        "!jupyter nbconvert --to html --log-level WARN _NOTEBOOK.ipynb\n",
        "\n",
        "# Download the .html file.\n",
        "google.colab.files.download(\"_NOTEBOOK.html\")"
      ],
      "metadata": {
        "id": "zKWrw3dWYGo4"
      },
      "execution_count": null,
      "outputs": []
    }
  ]
}